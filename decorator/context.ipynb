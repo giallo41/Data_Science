{
 "cells": [
  {
   "cell_type": "code",
   "execution_count": 12,
   "metadata": {},
   "outputs": [],
   "source": [
    "import contextlib\n",
    "\n",
    "@contextlib.contextmanager\n",
    "def my_context():\n",
    "    print('Welcome!')\n",
    "    yield\n",
    "    print('Bye!')"
   ]
  },
  {
   "cell_type": "code",
   "execution_count": 13,
   "metadata": {},
   "outputs": [
    {
     "name": "stdout",
     "output_type": "stream",
     "text": [
      "Welcome!\n",
      "I am always executed before the yield keyword\n",
      "\n",
      "Bye!\n",
      "I am always executed after the yield keyword\n"
     ]
    }
   ],
   "source": [
    "with my_context():\n",
    "    print('I am always executed before the yield keyword\\n')\n",
    "print('I am always executed after the yield keyword')\n"
   ]
  },
  {
   "cell_type": "code",
   "execution_count": 14,
   "metadata": {},
   "outputs": [
    {
     "name": "stdout",
     "output_type": "stream",
     "text": [
      "I am always executed after the yield keyword\n"
     ]
    }
   ],
   "source": [
    "print('I am always executed after the yield keyword')\n"
   ]
  },
  {
   "cell_type": "code",
   "execution_count": 15,
   "metadata": {},
   "outputs": [
    {
     "name": "stdout",
     "output_type": "stream",
     "text": [
      "Welcome!\n",
      "I am always executed before the yield keyword\n",
      "\n",
      "Bye!\n"
     ]
    }
   ],
   "source": [
    "with my_context():\n",
    "    print('I am always executed before the yield keyword\\n')"
   ]
  },
  {
   "cell_type": "code",
   "execution_count": 17,
   "metadata": {},
   "outputs": [],
   "source": [
    "import time\n",
    "\n",
    "@contextlib.contextmanager\n",
    "def timer():\n",
    "    # Start the timer\n",
    "    start = time.time()\n",
    "    # context breakdown\n",
    "    yield\n",
    "    # End the timer\n",
    "    end = time.time()\n",
    "    # Tell the user how much time elapsed\n",
    "    print(f'This code block executed in {end - start} seconds.')\n",
    "\n"
   ]
  },
  {
   "cell_type": "code",
   "execution_count": 18,
   "metadata": {},
   "outputs": [
    {
     "name": "stdout",
     "output_type": "stream",
     "text": [
      "This code block executed in 1.001277208328247 seconds.\n",
      "Done!\n"
     ]
    }
   ],
   "source": [
    "with timer():\n",
    "    for i in range(10):\n",
    "        time.sleep(0.1)\n",
    "print('Done!')\n"
   ]
  },
  {
   "cell_type": "code",
   "execution_count": 19,
   "metadata": {},
   "outputs": [
    {
     "name": "stdout",
     "output_type": "stream",
     "text": [
      "a\n",
      "This code block executed in 5.054473876953125e-05 seconds.\n",
      "Done!\n"
     ]
    }
   ],
   "source": [
    "with timer():\n",
    "    print ( 'a')\n",
    "print('Done!')\n"
   ]
  },
  {
   "cell_type": "code",
   "execution_count": 22,
   "metadata": {},
   "outputs": [
    {
     "name": "stdout",
     "output_type": "stream",
     "text": [
      "Printing the contents of the file\n",
      "\n",
      "test programming\n",
      "2) second line\n",
      "\n"
     ]
    }
   ],
   "source": [
    "@contextlib.contextmanager\n",
    "def read_only(path_to_file):\n",
    "    # Open the file\n",
    "    file = open(path_to_file, 'r')\n",
    "    # Context breakdwon\n",
    "    yield file\n",
    "    # Close the file\n",
    "    file.close()\n",
    "\n",
    "with read_only('sample.txt') as file:\n",
    "    print('Printing the contents of the file\\n')\n",
    "    print(file.read())\n"
   ]
  },
  {
   "cell_type": "code",
   "execution_count": null,
   "metadata": {},
   "outputs": [],
   "source": []
  }
 ],
 "metadata": {
  "environment": {
   "name": "common-cpu.m59",
   "type": "gcloud",
   "uri": "gcr.io/deeplearning-platform-release/base-cpu:m59"
  },
  "kernelspec": {
   "display_name": "Python 3",
   "language": "python",
   "name": "python3"
  },
  "language_info": {
   "codemirror_mode": {
    "name": "ipython",
    "version": 3
   },
   "file_extension": ".py",
   "mimetype": "text/x-python",
   "name": "python",
   "nbconvert_exporter": "python",
   "pygments_lexer": "ipython3",
   "version": "3.7.8"
  }
 },
 "nbformat": 4,
 "nbformat_minor": 4
}
