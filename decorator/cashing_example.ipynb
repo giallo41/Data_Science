{
 "cells": [
  {
   "cell_type": "code",
   "execution_count": 3,
   "metadata": {},
   "outputs": [],
   "source": [
    "import time\n",
    "\n",
    "\n",
    "def timer(func):\n",
    "    \"\"\"\n",
    "    A decorator to calculate how long a function runs.\n",
    "    \n",
    "    Parameters\n",
    "    ----------\n",
    "    func: callable\n",
    "      The function being decorated.\n",
    "      \n",
    "    Returns\n",
    "    -------\n",
    "    func: callable\n",
    "      The decorated function.\n",
    "    \"\"\"\n",
    "    def wrapper(*args, **kwargs):\n",
    "        # Start the timer\n",
    "        start = time.time()\n",
    "        # Call the `func`\n",
    "        result = func(*args, **kwargs)\n",
    "        # End the timer\n",
    "        end = time.time()\n",
    "        \n",
    "        print(f\"{func.__name__} took {round(end - start, 4)} \"\n",
    "                \"seconds to run!\")\n",
    "        return result\n",
    "    return wrapper"
   ]
  },
  {
   "cell_type": "code",
   "execution_count": 4,
   "metadata": {},
   "outputs": [],
   "source": [
    "def cache(func):\n",
    "    \"\"\"\n",
    "    A decorator to cache/memoize func's restults\n",
    "    \n",
    "    Parameters\n",
    "    ----------\n",
    "    func: callable\n",
    "      The function being decorated\n",
    "    \n",
    "    Returns\n",
    "      func: callable\n",
    "        The decorated function\n",
    "    \"\"\"\n",
    "    # Create a dictionary to store results\n",
    "    cache = {}  # this will be stored in closure because it is nonlocal\n",
    "    \n",
    "    def wrapper(*args, **kwargs):\n",
    "        # Unpack args and kwargs intp a tuple to be used as dict keys\n",
    "        keys = (tuple(args) + tuple(kwargs.keys()))\n",
    "        # If not seen before\n",
    "        if keys not in cache:\n",
    "            # Store them in cache\n",
    "            cache[keys] = func(*args, **kwargs)\n",
    "        # Else return the recorded result\n",
    "        return cache[keys]\n",
    "    \n",
    "    return wrapper"
   ]
  },
  {
   "cell_type": "code",
   "execution_count": 5,
   "metadata": {},
   "outputs": [],
   "source": [
    "@timer\n",
    "@cache\n",
    "def sleep(n):\n",
    "    \"\"\"\n",
    "    Sleep for n seconds\n",
    "    \n",
    "    Parameters\n",
    "    ----------\n",
    "    n: int or float\n",
    "      The number of seconds to wait\n",
    "    \"\"\"\n",
    "    time.sleep(n)"
   ]
  },
  {
   "cell_type": "code",
   "execution_count": 6,
   "metadata": {},
   "outputs": [
    {
     "name": "stdout",
     "output_type": "stream",
     "text": [
      "wrapper took 10.0101 seconds to run!\n"
     ]
    }
   ],
   "source": [
    "sleep(10)"
   ]
  },
  {
   "cell_type": "code",
   "execution_count": 7,
   "metadata": {},
   "outputs": [
    {
     "name": "stdout",
     "output_type": "stream",
     "text": [
      "wrapper took 0.0 seconds to run!\n"
     ]
    }
   ],
   "source": [
    "sleep(10)"
   ]
  },
  {
   "cell_type": "code",
   "execution_count": 8,
   "metadata": {},
   "outputs": [],
   "source": [
    "def is_str(func):\n",
    "    \"\"\"\n",
    "    A decorator to check if `func`'s result is a string\n",
    "    \"\"\"\n",
    "    def wrapper(*args, **kwargs):\n",
    "        # Call func\n",
    "        result = func(*args, **kwargs)\n",
    "        return type(result) == str\n",
    "    return wrapper"
   ]
  },
  {
   "cell_type": "code",
   "execution_count": 9,
   "metadata": {},
   "outputs": [],
   "source": [
    "@is_str\n",
    "def foo(arg):\n",
    "    return arg"
   ]
  },
  {
   "cell_type": "code",
   "execution_count": 10,
   "metadata": {},
   "outputs": [
    {
     "data": {
      "text/plain": [
       "False"
      ]
     },
     "execution_count": 10,
     "metadata": {},
     "output_type": "execute_result"
    }
   ],
   "source": [
    "foo(4)"
   ]
  },
  {
   "cell_type": "code",
   "execution_count": 12,
   "metadata": {},
   "outputs": [
    {
     "data": {
      "text/plain": [
       "True"
      ]
     },
     "execution_count": 12,
     "metadata": {},
     "output_type": "execute_result"
    }
   ],
   "source": [
    "foo('python')"
   ]
  },
  {
   "cell_type": "code",
   "execution_count": 13,
   "metadata": {},
   "outputs": [],
   "source": [
    "@cache\n",
    "@is_str\n",
    "def foo(arg):\n",
    "    return arg"
   ]
  },
  {
   "cell_type": "code",
   "execution_count": 14,
   "metadata": {},
   "outputs": [
    {
     "data": {
      "text/plain": [
       "True"
      ]
     },
     "execution_count": 14,
     "metadata": {},
     "output_type": "execute_result"
    }
   ],
   "source": [
    "foo('python')"
   ]
  },
  {
   "cell_type": "code",
   "execution_count": 15,
   "metadata": {},
   "outputs": [
    {
     "data": {
      "text/plain": [
       "True"
      ]
     },
     "execution_count": 15,
     "metadata": {},
     "output_type": "execute_result"
    }
   ],
   "source": [
    "foo('python')"
   ]
  },
  {
   "cell_type": "code",
   "execution_count": 16,
   "metadata": {},
   "outputs": [
    {
     "data": {
      "text/plain": [
       "\"\\n    A decorator to check if `func`'s result is a string\\n    \""
      ]
     },
     "execution_count": 16,
     "metadata": {},
     "output_type": "execute_result"
    }
   ],
   "source": [
    "is_str.__doc__"
   ]
  },
  {
   "cell_type": "code",
   "execution_count": 17,
   "metadata": {},
   "outputs": [],
   "source": [
    "from functools import wraps\n",
    "\n",
    "\n",
    "def timer(func):\n",
    "    \"\"\"A decorator to calculate how long a function runs.\n",
    "    \"\"\"\n",
    "    @wraps(func)\n",
    "    def wrapper(*args, **kwargs):\n",
    "        # Start the timer\n",
    "        start = time.time()\n",
    "        # Call the `func`\n",
    "        result = func(*args, **kwargs)\n",
    "        # End the timer\n",
    "        end = time.time()\n",
    "        \n",
    "        print(f\"{func.__name__} took {round(end - start, 4)} seconds to run!\")\n",
    "        return result\n",
    "    return wrapper"
   ]
  },
  {
   "cell_type": "code",
   "execution_count": null,
   "metadata": {},
   "outputs": [],
   "source": []
  }
 ],
 "metadata": {
  "environment": {
   "name": "common-cpu.m59",
   "type": "gcloud",
   "uri": "gcr.io/deeplearning-platform-release/base-cpu:m59"
  },
  "kernelspec": {
   "display_name": "Python 3",
   "language": "python",
   "name": "python3"
  },
  "language_info": {
   "codemirror_mode": {
    "name": "ipython",
    "version": 3
   },
   "file_extension": ".py",
   "mimetype": "text/x-python",
   "name": "python",
   "nbconvert_exporter": "python",
   "pygments_lexer": "ipython3",
   "version": "3.7.8"
  }
 },
 "nbformat": 4,
 "nbformat_minor": 4
}
